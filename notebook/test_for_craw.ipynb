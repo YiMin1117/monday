{
 "cells": [
  {
   "cell_type": "code",
   "execution_count": 1,
   "metadata": {},
   "outputs": [],
   "source": [
    "from bs4 import BeautifulSoup\n",
    "import requests"
   ]
  },
  {
   "cell_type": "code",
   "execution_count": null,
   "metadata": {},
   "outputs": [],
   "source": [
    "1.coding=>2L52.1a.1,2RSSE.1a.1\n",
    "2.non_coding => 2L52.2!! biotype=ncRNA,B0212.t1 biotype=tRNA,c biotype=pre_miRNA\n",
    "例外:\n",
    "VT23B5.1\n",
    "F56F12.8\n",
    "Y17G7A.2\n",
    "3.pseudogenic_transcripts=>B0238.13a,2RSSE.3,AC3.9   問題解決:下載的fasta strand會不對所以序列不一樣\n",
    "4.Transposon-mRNA=>\n",
    "H05L03.5 type=Transposon-non-coding_transcript 這個可以(是因為這個剛好屬於nc_rna),\n",
    "B0250.13 type=Transposon-pseudogenic_transcript 這種型態的似乎不行,\n",
    "B0302.6  type=Transposon-mRNA,這種型態的似乎不行,\n",
    "F59C6.1, type=Transposon-mRNA 這種型態的似乎不行,"
   ]
  },
  {
   "cell_type": "code",
   "execution_count": 23,
   "metadata": {},
   "outputs": [
    {
     "name": "stderr",
     "output_type": "stream",
     "text": [
      "<>:16: SyntaxWarning: invalid escape sequence '\\c'\n",
      "<>:16: SyntaxWarning: invalid escape sequence '\\c'\n",
      "C:\\Users\\jimmy\\AppData\\Local\\Temp\\ipykernel_20852\\340552361.py:16: SyntaxWarning: invalid escape sequence '\\c'\n",
      "  combined_df = pd.read_csv('..\\csv\\combined_data.csv')\n"
     ]
    },
    {
     "data": {
      "application/json": {
       "class": "pseudogene",
       "fields": {
        "name": {
         "data": {
          "class": "pseudogene",
          "id": "B0238.13a",
          "label": "B0238.13a",
          "taxonomy": "c_elegans"
         },
         "description": "The name and WormBase internal ID of B0238.13a"
        },
        "predicted_exon_structure": {
         "data": [
          {
           "end": 93,
           "len": 93,
           "no": 1,
           "start": 1
          },
          {
           "end": 384,
           "len": 249,
           "no": 2,
           "start": 136
          },
          {
           "end": 763,
           "len": 334,
           "no": 3,
           "start": 430
          },
          {
           "end": 932,
           "len": 123,
           "no": 4,
           "start": 810
          },
          {
           "end": 1611,
           "len": 210,
           "no": 5,
           "start": 1402
          },
          {
           "end": 1811,
           "len": 157,
           "no": 6,
           "start": 1655
          },
          {
           "end": 2362,
           "len": 472,
           "no": 7,
           "start": 1891
          },
          {
           "end": 2491,
           "len": 90,
           "no": 8,
           "start": 2402
          },
          {
           "end": 2870,
           "len": 334,
           "no": 9,
           "start": 2537
          },
          {
           "end": 3035,
           "len": 123,
           "no": 10,
           "start": 2913
          },
          {
           "end": 3306,
           "len": 210,
           "no": 11,
           "start": 3097
          },
          {
           "end": 3518,
           "len": 164,
           "no": 12,
           "start": 3355
          },
          {
           "end": 3897,
           "len": 266,
           "no": 13,
           "start": 3632
          },
          {
           "end": 4205,
           "len": 134,
           "no": 14,
           "start": 4072
          }
         ],
         "description": "predicted exon structure within the pseudogene"
        },
        "sequence_context": {
         "data": {
          "header": "Sequence",
          "length": 4205,
          "negative_strand": {
           "sequence": "atgggaggatttctgtcacatttgaaaccggaacaaaactcgaaaattttgaattcgacctgcggtcctattcgaagaaatatctatgaacatgtaagttactcttttttagaaatggttttgaatttttttcagggtgagaaaattgtggatggatatctaggaattccatttgccaaagccccaattggagaacttcgattcaaaaaaccagttgaagctgaaaaatggacggagccactggattgctataaatatggacccggatgtccacaatctggatatctcggtgctacgttagttccaaaaggttatgttgagctgaatgaggacaactgtttaactctcaacgtttttgctccaagatggaaggttactgaattggtaaggtggcttcaaatctttctaggaaataattttcaatttcagccaaaaggtctccctgtgatggtttatttttacggtggaggttttgaaattggattctcatctctttataacgactactcgctaactggatctctcccactcaaagatgtaattctagtcacatccaattaccgtgttggaccacttggtttcttcactaccggggacgacgtggcacgtggaaactatggttcatgggatcagactatgactcttcaatgggtgcaaaaacatatcaaatcatttggaggtgatccagataatgtaacaattttcggaacaagtgcaggtggagctagcgtggatttgttatcactgagcccacactctaacagtaggatttccaagcaatatttgattaaaaaaataaaaaagttcagagtatttccatagattcatcccaatgtcagcaactgcatactgtccaatttctattcgttcaaaggatgttgaagcattggttttccgagagtttgctaagcatcatggttacataggggaaggtcagtcgacttgaaaattgataattttcaatttgcccgttttgagtggggtgggtctgcaggttacaaaatttaccaactgttcatctgcgagagcaagactctattttttgctgttggtgacccagtattctggctgtcgatcaggctgagttcgaatattatgatgtttcaattttagttctcttttgaaacacaccgttggttgtaaagatatttgaaaatttaagttccaaggtctcctgaaaacatttttcgttttcgaaaaaaacgttaagtaccgagcgaaaaaagtaaatgagtcccgtgatgaagttatattcagttagaataatttttaagccatggaaggttcactattgtaggtagcgagaacccgcttaaaatgtgtcgcgagtagacccattatcacctctaattcaaaatctacttgaatacagattaaaaaaaacctctattaacaactcagattctaaaagtctactgcaatggtaccaatctcaagattccgaaaaattccttgatgttgccaattttaatagaccagcttccggattcatgtccttcgttccaaactttgacggagatttctttccgaaaccattcgacgagttgagaaaagaagctccaaaattcgatgcaattgtttcagttacagaatatgaaggactaggctttcgtgagtttgataggttttgtttggaaacgtaatcttatttcagtatcactctttcctaatcaagaaacacccgaacaaattttagctgcagctttcggaaaagatattgttgaaaataatgcataaaacgagtgaaggaattttatttcaaaaatattgacaaagatgataaagtcaatattgataagaaaacgacggaagtaagtatgtgtggaaaaaatgagtaaagttcaaaagtacaaaataactttcagtttgcactcttaaattatttttcagttagttggtgactactatttcaatacaggggcattggctactgctaagtctttaactaaacatggtagcaatgtatatctcacttctttcaactactacaatcctgaaaaccaaactcctaccgccgaaaatctaccatttaaagcagcatctcatggctctgatctgagatatatacttggagatgacccaggaaagtttttggatgaagaactcaaaattatggatatgatgtgcacgtttctatcaaattttgaaattattttgcgatcgaaaagcctcgtcctctgaaatgtgaaaattattttagggggacaaaatcgtgaatggatatctcggaattccatttgccaaggctccaatcggagaccttcgattcaaaaaatcagtcgaagctgaaaaatggacggaaccactggattgctataaatatggacccggatgcccacagtcaggagcccttggaaccatggtgagttgtaaattttaatagaagaaataaactttttagatggtttcacaagctactaatcatgatttcgctgaagataattgcttgaacctcaacgtgtttgcaccaaaatggaaatctgccgaattcgtgagctcacttctaccgttttcaatgtatttattctgatttcagccaaacggttttcctgtaatggtttacttctatggtggaggtttcgaggttggattctcatcgatgtttgatgattattctttaactggaactcttccacttaaagatgtaattctagtcactcccaactaccgaattggacctctcggatttttcgctactggagatgacgtgtcacggggaaactggggattatgggatcaagctttggctctacagtgggtacaaaagcatatcaaatcatttggaggagatccgagcaacgtgacgatttctgggacaagtgccggtggagcaagtgttgatttcctgtctctgagtccacatgctaatagtaagatttattgggaataatggaataaagccaatcatttagaatacttccataagttcattcctatgtctggtgcggcgacctgtccatttggtatccgttcgaaagatgttgagggattaattttccgagagtttgccaagcaccatggctacgccggaaatggtaagttgattaatgaagtttataatctttggaaatattggagtaacaaatttcgttccagattccgaaagcctattgcactggtatcaatctcaggacgctgagatattccttaaagcggaaggattcaagtgcccagcttctggcatgttttcctttgttccaaacttcgacggagatttcttcccaaaaccatttgacgagttgagaaaagaggcaccgaaacttggtgccatcgtttcaattggtgaatatgaaggacttggttttggtgagtgtccgataaacttagaattctgaataatatagtatatttcagaagacttctatgctggccagaaaacccctcaacaaatgctatcagcagctttgggtcctgatgttgtgaagaatagggaagaagttgtcaagaaagctgaagaatcttatttaaaaaatgctggaaacggaaatgaaaaaaacgttgcaaagacattagttgaggtatggcattgacttttttttcccatacagttttttgttgaaaattttaaaagtcaaaaacattttaaattaaaattaaaacgatattttttgcaagtttccaacttttacagatatatggagactactacttcagtgtgggagcatttgatactgttcgatcacttgtcaagtatggaaatactgtatatttgtattctttcaattatttcaatccgaacactccaattgtgtttggcaaaaacaggccgttcaatgcaggtaatcatggttctgatttaagatatatttttggagaagggactggagagttttcgaaagaagataggcaggttatggatatgatgggaacttatcaaacaaattttgcaaaatatgggtaagcatcgagctcaaaaaataaacgcactgcaaaaataaatccaaaaagttatataacatttaattttaatctacttggtggcaagcatttatcaagtttcaacaaaaaaagttcagtttccaggaaattgattcaaaaaatttaaagaaacttaacgattaattattatagcaatccaaatggaaaaggtgtatcggttccatgggaaaagtacagtcttgacaatccaggaagatatttcaagattgattatccaaaatgtgatatggctgacaatttcttggatggaaggtacaagattatag"
          },
          "positive_strand": {
           "sequence": "ctataatcttgtaccttccatccaagaaattgtcagccatatcacattttggataatcaatcttgaaatatcttcctggattgtcaagactgtacttttcccatggaaccgatacaccttttccatttggattgctataataattaatcgttaagtttctttaaattttttgaatcaatttcctggaaactgaactttttttgttgaaacttgataaatgcttgccaccaagtagattaaaattaaatgttatataactttttggatttatttttgcagtgcgtttattttttgagctcgatgcttacccatattttgcaaaatttgtttgataagttcccatcatatccataacctgcctatcttctttcgaaaactctccagtcccttctccaaaaatatatcttaaatcagaaccatgattacctgcattgaacggcctgtttttgccaaacacaattggagtgttcggattgaaataattgaaagaatacaaatatacagtatttccatacttgacaagtgatcgaacagtatcaaatgctcccacactgaagtagtagtctccatatatctgtaaaagttggaaacttgcaaaaaatatcgttttaattttaatttaaaatgtttttgacttttaaaattttcaacaaaaaactgtatgggaaaaaaaagtcaatgccatacctcaactaatgtctttgcaacgtttttttcatttccgtttccagcattttttaaataagattcttcagctttcttgacaacttcttccctattcttcacaacatcaggacccaaagctgctgatagcatttgttgaggggttttctggccagcatagaagtcttctgaaatatactatattattcagaattctaagtttatcggacactcaccaaaaccaagtccttcatattcaccaattgaaacgatggcaccaagtttcggtgcctcttttctcaactcgtcaaatggttttgggaagaaatctccgtcgaagtttggaacaaaggaaaacatgccagaagctgggcacttgaatccttccgctttaaggaatatctcagcgtcctgagattgataccagtgcaataggctttcggaatctggaacgaaatttgttactccaatatttccaaagattataaacttcattaatcaacttaccatttccggcgtagccatggtgcttggcaaactctcggaaaattaatccctcaacatctttcgaacggataccaaatggacaggtcgccgcaccagacataggaatgaacttatggaagtattctaaatgattggctttattccattattcccaataaatcttactattagcatgtggactcagagacaggaaatcaacacttgctccaccggcacttgtcccagaaatcgtcacgttgctcggatctcctccaaatgatttgatatgcttttgtacccactgtagagccaaagcttgatcccataatccccagtttccccgtgacacgtcatctccagtagcgaaaaatccgagaggtccaattcggtagttgggagtgactagaattacatctttaagtggaagagttccagttaaagaataatcatcaaacatcgatgagaatccaacctcgaaacctccaccatagaagtaaaccattacaggaaaaccgtttggctgaaatcagaataaatacattgaaaacggtagaagtgagctcacgaattcggcagatttccattttggtgcaaacacgttgaggttcaagcaattatcttcagcgaaatcatgattagtagcttgtgaaaccatctaaaaagtttatttcttctattaaaatttacaactcaccatggttccaagggctcctgactgtgggcatccgggtccatatttatagcaatccagtggttccgtccatttttcagcttcgactgattttttgaatcgaaggtctccgattggagccttggcaaatggaattccgagatatccattcacgattttgtccccctaaaataattttcacatttcagaggacgaggcttttcgatcgcaaaataatttcaaaatttgatagaaacgtgcacatcatatccataattttgagttcttcatccaaaaactttcctgggtcatctccaagtatatatctcagatcagagccatgagatgctgctttaaatggtagattttcggcggtaggagtttggttttcaggattgtagtagttgaaagaagtgagatatacattgctaccatgtttagttaaagacttagcagtagccaatgcccctgtattgaaatagtagtcaccaactaactgaaaaataatttaagagtgcaaactgaaagttattttgtacttttgaactttactcattttttccacacatacttacttccgtcgttttcttatcaatattgactttatcatctttgtcaatatttttgaaataaaattccttcactcgttttatgcattattttcaacaatatcttttccgaaagctgcagctaaaatttgttcgggtgtttcttgattaggaaagagtgatactgaaataagattacgtttccaaacaaaacctatcaaactcacgaaagcctagtccttcatattctgtaactgaaacaattgcatcgaattttggagcttcttttctcaactcgtcgaatggtttcggaaagaaatctccgtcaaagtttggaacgaaggacatgaatccggaagctggtctattaaaattggcaacatcaaggaatttttcggaatcttgagattggtaccattgcagtagacttttagaatctgagttgttaatagaggttttttttaatctgtattcaagtagattttgaattagaggtgataatgggtctactcgcgacacattttaagcgggttctcgctacctacaatagtgaaccttccatggcttaaaaattattctaactgaatataacttcatcacgggactcatttacttttttcgctcggtacttaacgtttttttcgaaaacgaaaaatgttttcaggagaccttggaacttaaattttcaaatatctttacaaccaacggtgtgtttcaaaagagaactaaaattgaaacatcataatattcgaactcagcctgatcgacagccagaatactgggtcaccaacagcaaaaaatagagtcttgctctcgcagatgaacagttggtaaattttgtaacctgcagacccaccccactcaaaacgggcaaattgaaaattatcaattttcaagtcgactgaccttcccctatgtaaccatgatgcttagcaaactctcggaaaaccaatgcttcaacatcctttgaacgaatagaaattggacagtatgcagttgctgacattgggatgaatctatggaaatactctgaacttttttatttttttaatcaaatattgcttggaaatcctactgttagagtgtgggctcagtgataacaaatccacgctagctccacctgcacttgttccgaaaattgttacattatctggatcacctccaaatgatttgatatgtttttgcacccattgaagagtcatagtctgatcccatgaaccatagtttccacgtgccacgtcgtccccggtagtgaagaaaccaagtggtccaacacggtaattggatgtgactagaattacatctttgagtgggagagatccagttagcgagtagtcgttataaagagatgagaatccaatttcaaaacctccaccgtaaaaataaaccatcacagggagaccttttggctgaaattgaaaattatttcctagaaagatttgaagccaccttaccaattcagtaaccttccatcttggagcaaaaacgttgagagttaaacagttgtcctcattcagctcaacataaccttttggaactaacgtagcaccgagatatccagattgtggacatccgggtccatatttatagcaatccagtggctccgtccatttttcagcttcaactggttttttgaatcgaagttctccaattggggctttggcaaatggaattcctagatatccatccacaattttctcaccctgaaaaaaattcaaaaccatttctaaaaaagagtaacttacatgttcatagatatttcttcgaataggaccgcaggtcgaattcaaaattttcgagttttgttccggtttcaaatgtgacagaaatcctcccat"
          },
          "strand": "-"
         },
         "descriptions": "The sequence of the pseudogene"
        },
        "strand": {
         "data": "negative",
         "description": "strand orientation of the sequence"
        },
        "time_cached": 1728027313
       },
       "name": "B0238.13a",
       "uri": "rest/widget/pseudogene/B0238.13a/sequences"
      },
      "text/plain": [
       "<IPython.core.display.JSON object>"
      ]
     },
     "metadata": {
      "application/json": {
       "expanded": false,
       "root": "root"
      }
     },
     "output_type": "display_data"
    }
   ],
   "source": [
    "import requests\n",
    "import json\n",
    "import ssl\n",
    "import pandas as pd\n",
    "from IPython.display import display, JSON\n",
    "\n",
    "# 伪造请求头\n",
    "headers = {\n",
    "    'User-Agent': 'Mozilla/5.0 (Windows NT 10.0; Win64; x64) AppleWebKit/537.36 (KHTML, like Gecko) Chrome/104.0.0 Safari/537.36'\n",
    "}\n",
    "\n",
    "# 忽略 SSL 验证 (如果需要)\n",
    "# ssl._create_default_https_context = ssl._create_unverified_context\n",
    "\n",
    "# 读取 CSV 文件\n",
    "combined_df = pd.read_csv('..\\csv\\combined_data.csv')\n",
    "\n",
    "# 输入 transcript_id\n",
    "transcript_id = input(\"Enter transcript ID: \")\n",
    "\n",
    "# 查找对应的类型\n",
    "transcript_info = combined_df[combined_df['Transcript_Name'] == transcript_id]\n",
    "\n",
    "# 检查是否找到了对应的 transcript\n",
    "if not transcript_info.empty:\n",
    "    transcript_type = transcript_info.iloc[0]['Type']\n",
    "    if transcript_type in {'pseudogenic_transcripts', 'Transposon-pseudogenic_transcript'}:\n",
    "    # 處理 pseudogenic_transcripts 或 Transposon-pseudogenic_transcript 的邏輯\n",
    "\n",
    "        # 构建伪基因（pseudogene）的请求 URL\n",
    "        url = f'https://wormbase.org/rest/widget/pseudogene/{transcript_id}/sequences'\n",
    "    elif transcript_type == 'Transposon-mRNA':\n",
    "        # 构建 Transposon-mRNA 的请求 URL\n",
    "        url = f'https://wormbase.org/rest/widget/cds/{transcript_id}/sequences'\n",
    "    else:\n",
    "        # 构建编码转录本（coding transcript）的请求 URL\n",
    "        url = f'https://wormbase.org/rest/widget/transcript/{transcript_id}/sequences'\n",
    "    \n",
    "    # 发送请求并获取响应\n",
    "    response = requests.get(url, headers=headers)\n",
    "\n",
    "    # 检查响应状态码\n",
    "    if response.status_code == 200:\n",
    "        # 解析 JSON 数据\n",
    "        data = response.json()\n",
    "        # 显示 JSON 数据\n",
    "        display(JSON(data))\n",
    "    else:\n",
    "        print(f\"Failed to fetch data: {response.status_code}\")\n",
    "else:\n",
    "    print(f\"Transcript ID '{transcript_id}' not found in the CSV.\")\n"
   ]
  },
  {
   "cell_type": "code",
   "execution_count": 24,
   "metadata": {},
   "outputs": [
    {
     "name": "stdout",
     "output_type": "stream",
     "text": [
      "{\n",
      "   \"name\": \"B0238.13a\",\n",
      "   \"fields\": {\n",
      "      \"name\": {\n",
      "         \"description\": \"The name and WormBase internal ID of B0238.13a\",\n",
      "         \"data\": {\n",
      "            \"taxonomy\": \"c_elegans\",\n",
      "            \"class\": \"pseudogene\",\n",
      "            \"id\": \"B0238.13a\",\n",
      "            \"label\": \"B0238.13a\"\n",
      "         }\n",
      "      },\n",
      "      \"time_cached\": 1728027313,\n",
      "      \"strand\": {\n",
      "         \"description\": \"strand orientation of the sequence\",\n",
      "         \"data\": \"negative\"\n",
      "      },\n",
      "      \"sequence_context\": {\n",
      "         \"descriptions\": \"The sequence of the pseudogene\",\n",
      "         \"data\": {\n",
      "            \"positive_strand\": {\n",
      "               \"sequence\": \"ctataatcttgtaccttccatccaagaaattgtcagccatatcacattttggataatcaatcttgaaatatcttcctggattgtcaagactgtacttttcccatggaaccgatacaccttttccatttggattgctataataattaatcgttaagtttctttaaattttttgaatcaatttcctggaaactgaactttttttgttgaaacttgataaatgcttgccaccaagtagattaaaattaaatgttatataactttttggatttatttttgcagtgcgtttattttttgagctcgatgcttacccatattttgcaaaatttgtttgataagttcccatcatatccataacctgcctatcttctttcgaaaactctccagtcccttctccaaaaatatatcttaaatcagaaccatgattacctgcattgaacggcctgtttttgccaaacacaattggagtgttcggattgaaataattgaaagaatacaaatatacagtatttccatacttgacaagtgatcgaacagtatcaaatgctcccacactgaagtagtagtctccatatatctgtaaaagttggaaacttgcaaaaaatatcgttttaattttaatttaaaatgtttttgacttttaaaattttcaacaaaaaactgtatgggaaaaaaaagtcaatgccatacctcaactaatgtctttgcaacgtttttttcatttccgtttccagcattttttaaataagattcttcagctttcttgacaacttcttccctattcttcacaacatcaggacccaaagctgctgatagcatttgttgaggggttttctggccagcatagaagtcttctgaaatatactatattattcagaattctaagtttatcggacactcaccaaaaccaagtccttcatattcaccaattgaaacgatggcaccaagtttcggtgcctcttttctcaactcgtcaaatggttttgggaagaaatctccgtcgaagtttggaacaaaggaaaacatgccagaagctgggcacttgaatccttccgctttaaggaatatctcagcgtcctgagattgataccagtgcaataggctttcggaatctggaacgaaatttgttactccaatatttccaaagattataaacttcattaatcaacttaccatttccggcgtagccatggtgcttggcaaactctcggaaaattaatccctcaacatctttcgaacggataccaaatggacaggtcgccgcaccagacataggaatgaacttatggaagtattctaaatgattggctttattccattattcccaataaatcttactattagcatgtggactcagagacaggaaatcaacacttgctccaccggcacttgtcccagaaatcgtcacgttgctcggatctcctccaaatgatttgatatgcttttgtacccactgtagagccaaagcttgatcccataatccccagtttccccgtgacacgtcatctccagtagcgaaaaatccgagaggtccaattcggtagttgggagtgactagaattacatctttaagtggaagagttccagttaaagaataatcatcaaacatcgatgagaatccaacctcgaaacctccaccatagaagtaaaccattacaggaaaaccgtttggctgaaatcagaataaatacattgaaaacggtagaagtgagctcacgaattcggcagatttccattttggtgcaaacacgttgaggttcaagcaattatcttcagcgaaatcatgattagtagcttgtgaaaccatctaaaaagtttatttcttctattaaaatttacaactcaccatggttccaagggctcctgactgtgggcatccgggtccatatttatagcaatccagtggttccgtccatttttcagcttcgactgattttttgaatcgaaggtctccgattggagccttggcaaatggaattccgagatatccattcacgattttgtccccctaaaataattttcacatttcagaggacgaggcttttcgatcgcaaaataatttcaaaatttgatagaaacgtgcacatcatatccataattttgagttcttcatccaaaaactttcctgggtcatctccaagtatatatctcagatcagagccatgagatgctgctttaaatggtagattttcggcggtaggagtttggttttcaggattgtagtagttgaaagaagtgagatatacattgctaccatgtttagttaaagacttagcagtagccaatgcccctgtattgaaatagtagtcaccaactaactgaaaaataatttaagagtgcaaactgaaagttattttgtacttttgaactttactcattttttccacacatacttacttccgtcgttttcttatcaatattgactttatcatctttgtcaatatttttgaaataaaattccttcactcgttttatgcattattttcaacaatatcttttccgaaagctgcagctaaaatttgttcgggtgtttcttgattaggaaagagtgatactgaaataagattacgtttccaaacaaaacctatcaaactcacgaaagcctagtccttcatattctgtaactgaaacaattgcatcgaattttggagcttcttttctcaactcgtcgaatggtttcggaaagaaatctccgtcaaagtttggaacgaaggacatgaatccggaagctggtctattaaaattggcaacatcaaggaatttttcggaatcttgagattggtaccattgcagtagacttttagaatctgagttgttaatagaggttttttttaatctgtattcaagtagattttgaattagaggtgataatgggtctactcgcgacacattttaagcgggttctcgctacctacaatagtgaaccttccatggcttaaaaattattctaactgaatataacttcatcacgggactcatttacttttttcgctcggtacttaacgtttttttcgaaaacgaaaaatgttttcaggagaccttggaacttaaattttcaaatatctttacaaccaacggtgtgtttcaaaagagaactaaaattgaaacatcataatattcgaactcagcctgatcgacagccagaatactgggtcaccaacagcaaaaaatagagtcttgctctcgcagatgaacagttggtaaattttgtaacctgcagacccaccccactcaaaacgggcaaattgaaaattatcaattttcaagtcgactgaccttcccctatgtaaccatgatgcttagcaaactctcggaaaaccaatgcttcaacatcctttgaacgaatagaaattggacagtatgcagttgctgacattgggatgaatctatggaaatactctgaacttttttatttttttaatcaaatattgcttggaaatcctactgttagagtgtgggctcagtgataacaaatccacgctagctccacctgcacttgttccgaaaattgttacattatctggatcacctccaaatgatttgatatgtttttgcacccattgaagagtcatagtctgatcccatgaaccatagtttccacgtgccacgtcgtccccggtagtgaagaaaccaagtggtccaacacggtaattggatgtgactagaattacatctttgagtgggagagatccagttagcgagtagtcgttataaagagatgagaatccaatttcaaaacctccaccgtaaaaataaaccatcacagggagaccttttggctgaaattgaaaattatttcctagaaagatttgaagccaccttaccaattcagtaaccttccatcttggagcaaaaacgttgagagttaaacagttgtcctcattcagctcaacataaccttttggaactaacgtagcaccgagatatccagattgtggacatccgggtccatatttatagcaatccagtggctccgtccatttttcagcttcaactggttttttgaatcgaagttctccaattggggctttggcaaatggaattcctagatatccatccacaattttctcaccctgaaaaaaattcaaaaccatttctaaaaaagagtaacttacatgttcatagatatttcttcgaataggaccgcaggtcgaattcaaaattttcgagttttgttccggtttcaaatgtgacagaaatcctcccat\"\n",
      "            },\n",
      "            \"negative_strand\": {\n",
      "               \"sequence\": \"atgggaggatttctgtcacatttgaaaccggaacaaaactcgaaaattttgaattcgacctgcggtcctattcgaagaaatatctatgaacatgtaagttactcttttttagaaatggttttgaatttttttcagggtgagaaaattgtggatggatatctaggaattccatttgccaaagccccaattggagaacttcgattcaaaaaaccagttgaagctgaaaaatggacggagccactggattgctataaatatggacccggatgtccacaatctggatatctcggtgctacgttagttccaaaaggttatgttgagctgaatgaggacaactgtttaactctcaacgtttttgctccaagatggaaggttactgaattggtaaggtggcttcaaatctttctaggaaataattttcaatttcagccaaaaggtctccctgtgatggtttatttttacggtggaggttttgaaattggattctcatctctttataacgactactcgctaactggatctctcccactcaaagatgtaattctagtcacatccaattaccgtgttggaccacttggtttcttcactaccggggacgacgtggcacgtggaaactatggttcatgggatcagactatgactcttcaatgggtgcaaaaacatatcaaatcatttggaggtgatccagataatgtaacaattttcggaacaagtgcaggtggagctagcgtggatttgttatcactgagcccacactctaacagtaggatttccaagcaatatttgattaaaaaaataaaaaagttcagagtatttccatagattcatcccaatgtcagcaactgcatactgtccaatttctattcgttcaaaggatgttgaagcattggttttccgagagtttgctaagcatcatggttacataggggaaggtcagtcgacttgaaaattgataattttcaatttgcccgttttgagtggggtgggtctgcaggttacaaaatttaccaactgttcatctgcgagagcaagactctattttttgctgttggtgacccagtattctggctgtcgatcaggctgagttcgaatattatgatgtttcaattttagttctcttttgaaacacaccgttggttgtaaagatatttgaaaatttaagttccaaggtctcctgaaaacatttttcgttttcgaaaaaaacgttaagtaccgagcgaaaaaagtaaatgagtcccgtgatgaagttatattcagttagaataatttttaagccatggaaggttcactattgtaggtagcgagaacccgcttaaaatgtgtcgcgagtagacccattatcacctctaattcaaaatctacttgaatacagattaaaaaaaacctctattaacaactcagattctaaaagtctactgcaatggtaccaatctcaagattccgaaaaattccttgatgttgccaattttaatagaccagcttccggattcatgtccttcgttccaaactttgacggagatttctttccgaaaccattcgacgagttgagaaaagaagctccaaaattcgatgcaattgtttcagttacagaatatgaaggactaggctttcgtgagtttgataggttttgtttggaaacgtaatcttatttcagtatcactctttcctaatcaagaaacacccgaacaaattttagctgcagctttcggaaaagatattgttgaaaataatgcataaaacgagtgaaggaattttatttcaaaaatattgacaaagatgataaagtcaatattgataagaaaacgacggaagtaagtatgtgtggaaaaaatgagtaaagttcaaaagtacaaaataactttcagtttgcactcttaaattatttttcagttagttggtgactactatttcaatacaggggcattggctactgctaagtctttaactaaacatggtagcaatgtatatctcacttctttcaactactacaatcctgaaaaccaaactcctaccgccgaaaatctaccatttaaagcagcatctcatggctctgatctgagatatatacttggagatgacccaggaaagtttttggatgaagaactcaaaattatggatatgatgtgcacgtttctatcaaattttgaaattattttgcgatcgaaaagcctcgtcctctgaaatgtgaaaattattttagggggacaaaatcgtgaatggatatctcggaattccatttgccaaggctccaatcggagaccttcgattcaaaaaatcagtcgaagctgaaaaatggacggaaccactggattgctataaatatggacccggatgcccacagtcaggagcccttggaaccatggtgagttgtaaattttaatagaagaaataaactttttagatggtttcacaagctactaatcatgatttcgctgaagataattgcttgaacctcaacgtgtttgcaccaaaatggaaatctgccgaattcgtgagctcacttctaccgttttcaatgtatttattctgatttcagccaaacggttttcctgtaatggtttacttctatggtggaggtttcgaggttggattctcatcgatgtttgatgattattctttaactggaactcttccacttaaagatgtaattctagtcactcccaactaccgaattggacctctcggatttttcgctactggagatgacgtgtcacggggaaactggggattatgggatcaagctttggctctacagtgggtacaaaagcatatcaaatcatttggaggagatccgagcaacgtgacgatttctgggacaagtgccggtggagcaagtgttgatttcctgtctctgagtccacatgctaatagtaagatttattgggaataatggaataaagccaatcatttagaatacttccataagttcattcctatgtctggtgcggcgacctgtccatttggtatccgttcgaaagatgttgagggattaattttccgagagtttgccaagcaccatggctacgccggaaatggtaagttgattaatgaagtttataatctttggaaatattggagtaacaaatttcgttccagattccgaaagcctattgcactggtatcaatctcaggacgctgagatattccttaaagcggaaggattcaagtgcccagcttctggcatgttttcctttgttccaaacttcgacggagatttcttcccaaaaccatttgacgagttgagaaaagaggcaccgaaacttggtgccatcgtttcaattggtgaatatgaaggacttggttttggtgagtgtccgataaacttagaattctgaataatatagtatatttcagaagacttctatgctggccagaaaacccctcaacaaatgctatcagcagctttgggtcctgatgttgtgaagaatagggaagaagttgtcaagaaagctgaagaatcttatttaaaaaatgctggaaacggaaatgaaaaaaacgttgcaaagacattagttgaggtatggcattgacttttttttcccatacagttttttgttgaaaattttaaaagtcaaaaacattttaaattaaaattaaaacgatattttttgcaagtttccaacttttacagatatatggagactactacttcagtgtgggagcatttgatactgttcgatcacttgtcaagtatggaaatactgtatatttgtattctttcaattatttcaatccgaacactccaattgtgtttggcaaaaacaggccgttcaatgcaggtaatcatggttctgatttaagatatatttttggagaagggactggagagttttcgaaagaagataggcaggttatggatatgatgggaacttatcaaacaaattttgcaaaatatgggtaagcatcgagctcaaaaaataaacgcactgcaaaaataaatccaaaaagttatataacatttaattttaatctacttggtggcaagcatttatcaagtttcaacaaaaaaagttcagtttccaggaaattgattcaaaaaatttaaagaaacttaacgattaattattatagcaatccaaatggaaaaggtgtatcggttccatgggaaaagtacagtcttgacaatccaggaagatatttcaagattgattatccaaaatgtgatatggctgacaatttcttggatggaaggtacaagattatag\"\n",
      "            },\n",
      "            \"strand\": \"-\",\n",
      "            \"header\": \"Sequence\",\n",
      "            \"length\": 4205\n",
      "         }\n",
      "      },\n",
      "      \"predicted_exon_structure\": {\n",
      "         \"data\": [\n",
      "            {\n",
      "               \"end\": 93,\n",
      "               \"no\": 1,\n",
      "               \"len\": 93,\n",
      "               \"start\": 1\n",
      "            },\n",
      "            {\n",
      "               \"end\": 384,\n",
      "               \"no\": 2,\n",
      "               \"start\": 136,\n",
      "               \"len\": 249\n",
      "            },\n",
      "            {\n",
      "               \"end\": 763,\n",
      "               \"no\": 3,\n",
      "               \"len\": 334,\n",
      "               \"start\": 430\n",
      "            },\n",
      "            {\n",
      "               \"len\": 123,\n",
      "               \"start\": 810,\n",
      "               \"no\": 4,\n",
      "               \"end\": 932\n",
      "            },\n",
      "            {\n",
      "               \"no\": 5,\n",
      "               \"end\": 1611,\n",
      "               \"start\": 1402,\n",
      "               \"len\": 210\n",
      "            },\n",
      "            {\n",
      "               \"len\": 157,\n",
      "               \"start\": 1655,\n",
      "               \"end\": 1811,\n",
      "               \"no\": 6\n",
      "            },\n",
      "            {\n",
      "               \"len\": 472,\n",
      "               \"start\": 1891,\n",
      "               \"end\": 2362,\n",
      "               \"no\": 7\n",
      "            },\n",
      "            {\n",
      "               \"start\": 2402,\n",
      "               \"len\": 90,\n",
      "               \"end\": 2491,\n",
      "               \"no\": 8\n",
      "            },\n",
      "            {\n",
      "               \"no\": 9,\n",
      "               \"end\": 2870,\n",
      "               \"len\": 334,\n",
      "               \"start\": 2537\n",
      "            },\n",
      "            {\n",
      "               \"len\": 123,\n",
      "               \"start\": 2913,\n",
      "               \"no\": 10,\n",
      "               \"end\": 3035\n",
      "            },\n",
      "            {\n",
      "               \"no\": 11,\n",
      "               \"end\": 3306,\n",
      "               \"start\": 3097,\n",
      "               \"len\": 210\n",
      "            },\n",
      "            {\n",
      "               \"start\": 3355,\n",
      "               \"len\": 164,\n",
      "               \"no\": 12,\n",
      "               \"end\": 3518\n",
      "            },\n",
      "            {\n",
      "               \"start\": 3632,\n",
      "               \"len\": 266,\n",
      "               \"end\": 3897,\n",
      "               \"no\": 13\n",
      "            },\n",
      "            {\n",
      "               \"len\": 134,\n",
      "               \"start\": 4072,\n",
      "               \"end\": 4205,\n",
      "               \"no\": 14\n",
      "            }\n",
      "         ],\n",
      "         \"description\": \"predicted exon structure within the pseudogene\"\n",
      "      }\n",
      "   },\n",
      "   \"class\": \"pseudogene\",\n",
      "   \"uri\": \"rest/widget/pseudogene/B0238.13a/sequences\"\n",
      "}\n"
     ]
    }
   ],
   "source": [
    "formatted_json = json.dumps(data, indent=3)\n",
    "print(formatted_json)"
   ]
  },
  {
   "cell_type": "code",
   "execution_count": 57,
   "metadata": {},
   "outputs": [],
   "source": [
    "if transcript_type in {'pseudogenic_transcripts', 'Transposon-pseudogenic_transcript'}:\n",
    "    # 對於 pseudogene 的邏輯\n",
    "    table= data['fields']['predicted_exon_structure']['data']\n",
    "    if data['fields']['sequence_context']['data']['strand']=='+':\n",
    "        sequence=data['fields']['sequence_context']['data']['positive_strand']['sequence']\n",
    "    else:\n",
    "        sequence=data['fields']['sequence_context']['data']['negative_strand']['sequence']\n",
    "elif transcript_type == 'Transposon-mRNA':\n",
    "    if data['fields']['cds_sequence']['data']['strand'] == '+':\n",
    "        table = data['fields']['cds_sequence']['data']['positive_strand']['features']\n",
    "        sequence = data['fields']['cds_sequence']['data']['positive_strand']['sequence']\n",
    "    else:\n",
    "        table = data['fields']['cds_sequence']['data']['negative_strand']['features']\n",
    "        sequence = data['fields']['cds_sequence']['data']['negative_strand']['sequence']\n",
    "else:\n",
    "    # 處理 coding 或 non-coding 的邏輯\n",
    "    if data['fields']['spliced_sequence_context']['data']['strand'] == '+':\n",
    "        table = data['fields']['spliced_sequence_context']['data']['positive_strand']['features']\n",
    "        sequence = data['fields']['spliced_sequence_context']['data']['positive_strand']['sequence']\n",
    "    else:\n",
    "        table = data['fields']['spliced_sequence_context']['data']['negative_strand']['features']\n",
    "        sequence = data['fields']['spliced_sequence_context']['data']['negative_strand']['sequence']\n",
    "    if not table:\n",
    "        table = data['fields']['predicted_exon_structure']['data']"
   ]
  },
  {
   "cell_type": "code",
   "execution_count": 58,
   "metadata": {},
   "outputs": [
    {
     "data": {
      "text/plain": [
       "([{'type': 'exon', 'start': 1, 'stop': 250},\n",
       "  {'type': 'exon', 'start': 251, 'stop': 1218}],\n",
       " 'ATGCTCAAAAAGTGTGCGACACCGCTCGCGTTACCCCTCTCTATTATTTACTCCCAGTCATTGAAAGAATCAACCATTCCCTCCATTTGGAAGCATGCCACTGTCATTCCTGTACCCAAAAAAGGCAACCCCTCAAATCCATCTAATTATCGTCCAATTAGCTTAACTGATACTATTGCTAGAGTAATGGAGAAAATTATTTCACACCGAAGTCTGAATACGGTCACCTCATATCCAAACATCAACACGGTCAAAATCAATTCCACAGTTTCCGCTAATGCCCTCCCCATTCCTTCTGGGGTGCCCCAAGGAACAGTTACAGGTCCCCTTCTCTTTATATTGTTTTTGAACGACCTACTCCTATCCATACCCCCTTCTATTCAATTTTCTTGTTTTGCTGACGATGTGAAAATATTCAGTCACGATCCAATTGAACTTCAAAGCACAATTGATCTCATTGTAGATTGGTCTTTGAAAAATCAGTTGCCTCTTGCTCCCACCAAAACGGCCCTACTCCACATAGGAACTCAAAACCCTAGGCATAATTTCAATATTGACTCCCTACCCATCGTCCCCAGTTCCTCTGTTAGAGACCTCGGGCTTATCACCGACGATAAATTGTCATTCAAATCGCATATCAATAGAACCTCTTCCCTGGCACTTCTTAGGGCAAAACAGATCCTAAAATCCTTCCCCTCTGGCTCCAATAAATTCTATGTGAACCTGTTTAAAACGTATGTCTCACCAATTCTTGACTATGGGTCCCACATTTACTCCCCTCCCCCTCATTCAAAACTGTCAGGTGCATTAGAATCCGCTCTCAAATACTACTCAAGAATAATACTACAACGTAACAATATACAATACAAAGTATCGGAAACATCACATAGAAACACCTCATTAGTTTATTCACTTTCATATAAAAACCGCCTGAGCATTCTCAACATGGCCACAGCCCGCTCAACACGCTTAAAATCACAGCTTATTCTCTTGTATAAAATTATAACAAGCGCTGTACATTTCCCAGATGCAAAAAGATTTATTATACATGTCAGATCTCAACGTCGGCCGATGCTCCTTTCTCTAGTCAATCCAAAGTCCAAAGGTTTCTTTTCTATTGTCGTTCCCCTCTGGAACAGTATAGTTCACAATGTAGCAACATTCCTTTCCCCCTCCCAGTTTATGAACCTCATAAACCAACAAATCTCATTCTTTTAA')"
      ]
     },
     "execution_count": 58,
     "metadata": {},
     "output_type": "execute_result"
    }
   ],
   "source": [
    "table,sequence"
   ]
  },
  {
   "cell_type": "code",
   "execution_count": 27,
   "metadata": {},
   "outputs": [
    {
     "ename": "ElementClickInterceptedException",
     "evalue": "Message: element click intercepted: Element <input dir=\"ltr\" aria-autocomplete=\"list\" aria-expanded=\"false\" role=\"combobox\" placeholder=\"搜尋 Facebook\" autocomplete=\"off\" spellcheck=\"false\" aria-invalid=\"false\" aria-label=\"搜尋 Facebook\" class=\"x1i10hfl xggy1nq x1s07b3s x1kdt53j x1yc453h xhb22t3 xb5gni xcj1dhv x2s2ed0 xq33zhf xjyslct xjbqb8w xnwf7zb x40j3uw x1s7lred x15gyhx8 x972fbf xcfux6l x1qhh985 xm0m39n x9f619 xzsf02u xdl72j9 x1iyjqo2 xs83m0k xjb2p0i x6prxxf xeuugli x1a2a7pz x1n2onr6 x15h3p50 xm7lytj x1sxyh0 xdvlbce xurb0ha x1vqgdyp x1xtgk1k x17hph69 xo6swyp x1ad04t7 x1glnyev x1ix68h3 x19gujb8\" type=\"search\" value=\"\"> is not clickable at point (108, 28). Other element would receive the click: <div class=\"x1uvtmcs x4k7w5x x1h91t0o x1beo9mf xaigb6o x12ejxvf x3igimt xarpa2k xedcshv x1lytzrv x1t2pt76 x7ja8zs x1n2onr6 x1qrby5j x1jfb8zj\" tabindex=\"-1\">...</div>\n  (Session info: chrome=126.0.6478.127)\nStacktrace:\n\tGetHandleVerifier [0x00007FF629A8EEA2+31554]\n\t(No symbol) [0x00007FF629A07ED9]\n\t(No symbol) [0x00007FF6298C872A]\n\t(No symbol) [0x00007FF62992012E]\n\t(No symbol) [0x00007FF62991DAF2]\n\t(No symbol) [0x00007FF62991AF8B]\n\t(No symbol) [0x00007FF62991A156]\n\t(No symbol) [0x00007FF62990C151]\n\t(No symbol) [0x00007FF62993D02A]\n\t(No symbol) [0x00007FF62990BA76]\n\t(No symbol) [0x00007FF62993D240]\n\t(No symbol) [0x00007FF62995C977]\n\t(No symbol) [0x00007FF62993CDD3]\n\t(No symbol) [0x00007FF62990A33B]\n\t(No symbol) [0x00007FF62990AED1]\n\tGetHandleVerifier [0x00007FF629D98B1D+3217341]\n\tGetHandleVerifier [0x00007FF629DE5AE3+3532675]\n\tGetHandleVerifier [0x00007FF629DDB0E0+3489152]\n\tGetHandleVerifier [0x00007FF629B3E776+750614]\n\t(No symbol) [0x00007FF629A1375F]\n\t(No symbol) [0x00007FF629A0EB14]\n\t(No symbol) [0x00007FF629A0ECA2]\n\t(No symbol) [0x00007FF6299FE16F]\n\tBaseThreadInitThunk [0x00007FFAAC5D257D+29]\n\tRtlUserThreadStart [0x00007FFAAD6EAF28+40]\n",
     "output_type": "error",
     "traceback": [
      "\u001b[1;31m---------------------------------------------------------------------------\u001b[0m",
      "\u001b[1;31mElementClickInterceptedException\u001b[0m          Traceback (most recent call last)",
      "Cell \u001b[1;32mIn[27], line 31\u001b[0m\n\u001b[0;32m     29\u001b[0m \u001b[38;5;66;03m# 查找搜尋列並輸入關鍵字\u001b[39;00m\n\u001b[0;32m     30\u001b[0m search \u001b[38;5;241m=\u001b[39m driver\u001b[38;5;241m.\u001b[39mfind_element(By\u001b[38;5;241m.\u001b[39mCSS_SELECTOR, \u001b[38;5;124m'\u001b[39m\u001b[38;5;124minput[aria-label=\u001b[39m\u001b[38;5;124m\"\u001b[39m\u001b[38;5;124m搜尋 Facebook\u001b[39m\u001b[38;5;124m\"\u001b[39m\u001b[38;5;124m]\u001b[39m\u001b[38;5;124m'\u001b[39m)\n\u001b[1;32m---> 31\u001b[0m \u001b[43msearch\u001b[49m\u001b[38;5;241;43m.\u001b[39;49m\u001b[43mclick\u001b[49m\u001b[43m(\u001b[49m\u001b[43m)\u001b[49m\n\u001b[0;32m     32\u001b[0m time\u001b[38;5;241m.\u001b[39msleep(\u001b[38;5;241m2\u001b[39m)\n\u001b[0;32m     33\u001b[0m search\u001b[38;5;241m.\u001b[39msend_keys(\u001b[38;5;124m\"\u001b[39m\u001b[38;5;124mComputational Systems Biology Lab\u001b[39m\u001b[38;5;124m\"\u001b[39m)\n",
      "File \u001b[1;32mc:\\Users\\jimmy\\miniconda3\\envs\\test\\Lib\\site-packages\\selenium\\webdriver\\remote\\webelement.py:94\u001b[0m, in \u001b[0;36mWebElement.click\u001b[1;34m(self)\u001b[0m\n\u001b[0;32m     92\u001b[0m \u001b[38;5;28;01mdef\u001b[39;00m \u001b[38;5;21mclick\u001b[39m(\u001b[38;5;28mself\u001b[39m) \u001b[38;5;241m-\u001b[39m\u001b[38;5;241m>\u001b[39m \u001b[38;5;28;01mNone\u001b[39;00m:\n\u001b[0;32m     93\u001b[0m \u001b[38;5;250m    \u001b[39m\u001b[38;5;124;03m\"\"\"Clicks the element.\"\"\"\u001b[39;00m\n\u001b[1;32m---> 94\u001b[0m     \u001b[38;5;28;43mself\u001b[39;49m\u001b[38;5;241;43m.\u001b[39;49m\u001b[43m_execute\u001b[49m\u001b[43m(\u001b[49m\u001b[43mCommand\u001b[49m\u001b[38;5;241;43m.\u001b[39;49m\u001b[43mCLICK_ELEMENT\u001b[49m\u001b[43m)\u001b[49m\n",
      "File \u001b[1;32mc:\\Users\\jimmy\\miniconda3\\envs\\test\\Lib\\site-packages\\selenium\\webdriver\\remote\\webelement.py:395\u001b[0m, in \u001b[0;36mWebElement._execute\u001b[1;34m(self, command, params)\u001b[0m\n\u001b[0;32m    393\u001b[0m     params \u001b[38;5;241m=\u001b[39m {}\n\u001b[0;32m    394\u001b[0m params[\u001b[38;5;124m\"\u001b[39m\u001b[38;5;124mid\u001b[39m\u001b[38;5;124m\"\u001b[39m] \u001b[38;5;241m=\u001b[39m \u001b[38;5;28mself\u001b[39m\u001b[38;5;241m.\u001b[39m_id\n\u001b[1;32m--> 395\u001b[0m \u001b[38;5;28;01mreturn\u001b[39;00m \u001b[38;5;28;43mself\u001b[39;49m\u001b[38;5;241;43m.\u001b[39;49m\u001b[43m_parent\u001b[49m\u001b[38;5;241;43m.\u001b[39;49m\u001b[43mexecute\u001b[49m\u001b[43m(\u001b[49m\u001b[43mcommand\u001b[49m\u001b[43m,\u001b[49m\u001b[43m \u001b[49m\u001b[43mparams\u001b[49m\u001b[43m)\u001b[49m\n",
      "File \u001b[1;32mc:\\Users\\jimmy\\miniconda3\\envs\\test\\Lib\\site-packages\\selenium\\webdriver\\remote\\webdriver.py:354\u001b[0m, in \u001b[0;36mWebDriver.execute\u001b[1;34m(self, driver_command, params)\u001b[0m\n\u001b[0;32m    352\u001b[0m response \u001b[38;5;241m=\u001b[39m \u001b[38;5;28mself\u001b[39m\u001b[38;5;241m.\u001b[39mcommand_executor\u001b[38;5;241m.\u001b[39mexecute(driver_command, params)\n\u001b[0;32m    353\u001b[0m \u001b[38;5;28;01mif\u001b[39;00m response:\n\u001b[1;32m--> 354\u001b[0m     \u001b[38;5;28;43mself\u001b[39;49m\u001b[38;5;241;43m.\u001b[39;49m\u001b[43merror_handler\u001b[49m\u001b[38;5;241;43m.\u001b[39;49m\u001b[43mcheck_response\u001b[49m\u001b[43m(\u001b[49m\u001b[43mresponse\u001b[49m\u001b[43m)\u001b[49m\n\u001b[0;32m    355\u001b[0m     response[\u001b[38;5;124m\"\u001b[39m\u001b[38;5;124mvalue\u001b[39m\u001b[38;5;124m\"\u001b[39m] \u001b[38;5;241m=\u001b[39m \u001b[38;5;28mself\u001b[39m\u001b[38;5;241m.\u001b[39m_unwrap_value(response\u001b[38;5;241m.\u001b[39mget(\u001b[38;5;124m\"\u001b[39m\u001b[38;5;124mvalue\u001b[39m\u001b[38;5;124m\"\u001b[39m, \u001b[38;5;28;01mNone\u001b[39;00m))\n\u001b[0;32m    356\u001b[0m     \u001b[38;5;28;01mreturn\u001b[39;00m response\n",
      "File \u001b[1;32mc:\\Users\\jimmy\\miniconda3\\envs\\test\\Lib\\site-packages\\selenium\\webdriver\\remote\\errorhandler.py:229\u001b[0m, in \u001b[0;36mErrorHandler.check_response\u001b[1;34m(self, response)\u001b[0m\n\u001b[0;32m    227\u001b[0m         alert_text \u001b[38;5;241m=\u001b[39m value[\u001b[38;5;124m\"\u001b[39m\u001b[38;5;124malert\u001b[39m\u001b[38;5;124m\"\u001b[39m]\u001b[38;5;241m.\u001b[39mget(\u001b[38;5;124m\"\u001b[39m\u001b[38;5;124mtext\u001b[39m\u001b[38;5;124m\"\u001b[39m)\n\u001b[0;32m    228\u001b[0m     \u001b[38;5;28;01mraise\u001b[39;00m exception_class(message, screen, stacktrace, alert_text)  \u001b[38;5;66;03m# type: ignore[call-arg]  # mypy is not smart enough here\u001b[39;00m\n\u001b[1;32m--> 229\u001b[0m \u001b[38;5;28;01mraise\u001b[39;00m exception_class(message, screen, stacktrace)\n",
      "\u001b[1;31mElementClickInterceptedException\u001b[0m: Message: element click intercepted: Element <input dir=\"ltr\" aria-autocomplete=\"list\" aria-expanded=\"false\" role=\"combobox\" placeholder=\"搜尋 Facebook\" autocomplete=\"off\" spellcheck=\"false\" aria-invalid=\"false\" aria-label=\"搜尋 Facebook\" class=\"x1i10hfl xggy1nq x1s07b3s x1kdt53j x1yc453h xhb22t3 xb5gni xcj1dhv x2s2ed0 xq33zhf xjyslct xjbqb8w xnwf7zb x40j3uw x1s7lred x15gyhx8 x972fbf xcfux6l x1qhh985 xm0m39n x9f619 xzsf02u xdl72j9 x1iyjqo2 xs83m0k xjb2p0i x6prxxf xeuugli x1a2a7pz x1n2onr6 x15h3p50 xm7lytj x1sxyh0 xdvlbce xurb0ha x1vqgdyp x1xtgk1k x17hph69 xo6swyp x1ad04t7 x1glnyev x1ix68h3 x19gujb8\" type=\"search\" value=\"\"> is not clickable at point (108, 28). Other element would receive the click: <div class=\"x1uvtmcs x4k7w5x x1h91t0o x1beo9mf xaigb6o x12ejxvf x3igimt xarpa2k xedcshv x1lytzrv x1t2pt76 x7ja8zs x1n2onr6 x1qrby5j x1jfb8zj\" tabindex=\"-1\">...</div>\n  (Session info: chrome=126.0.6478.127)\nStacktrace:\n\tGetHandleVerifier [0x00007FF629A8EEA2+31554]\n\t(No symbol) [0x00007FF629A07ED9]\n\t(No symbol) [0x00007FF6298C872A]\n\t(No symbol) [0x00007FF62992012E]\n\t(No symbol) [0x00007FF62991DAF2]\n\t(No symbol) [0x00007FF62991AF8B]\n\t(No symbol) [0x00007FF62991A156]\n\t(No symbol) [0x00007FF62990C151]\n\t(No symbol) [0x00007FF62993D02A]\n\t(No symbol) [0x00007FF62990BA76]\n\t(No symbol) [0x00007FF62993D240]\n\t(No symbol) [0x00007FF62995C977]\n\t(No symbol) [0x00007FF62993CDD3]\n\t(No symbol) [0x00007FF62990A33B]\n\t(No symbol) [0x00007FF62990AED1]\n\tGetHandleVerifier [0x00007FF629D98B1D+3217341]\n\tGetHandleVerifier [0x00007FF629DE5AE3+3532675]\n\tGetHandleVerifier [0x00007FF629DDB0E0+3489152]\n\tGetHandleVerifier [0x00007FF629B3E776+750614]\n\t(No symbol) [0x00007FF629A1375F]\n\t(No symbol) [0x00007FF629A0EB14]\n\t(No symbol) [0x00007FF629A0ECA2]\n\t(No symbol) [0x00007FF6299FE16F]\n\tBaseThreadInitThunk [0x00007FFAAC5D257D+29]\n\tRtlUserThreadStart [0x00007FFAAD6EAF28+40]\n"
     ]
    }
   ],
   "source": [
    "from selenium import webdriver\n",
    "from selenium.webdriver.chrome.service import Service\n",
    "from selenium.webdriver.common.by import By\n",
    "from selenium.webdriver.common.keys import Keys\n",
    "import time\n",
    "\n",
    "# 創建 Service 對象，傳遞 chromedriver 的路徑\n",
    "service = Service(executable_path=\"chromedriver-win64/chromedriver.exe\")\n",
    "\n",
    "# 使用 Service 對象來初始化 Chrome WebDriver\n",
    "driver = webdriver.Chrome(service=service)\n",
    "driver.get('https://www.facebook.com/?locale=zh_TW')\n",
    "\n",
    "time.sleep(2)\n",
    "\n",
    "# 輸入帳號密碼並登入\n",
    "email = driver.find_element(By.NAME, 'email')\n",
    "password = driver.find_element(By.NAME, 'pass')\n",
    "email.send_keys('ruby.wenlii@hotmail.com')\n",
    "password.send_keys('268473951RANGERS')\n",
    "\n",
    "time.sleep(2)\n",
    "\n",
    "button = driver.find_element(By.NAME, 'login')\n",
    "button.click()\n",
    "\n",
    "time.sleep(5)  # 等待頁面加載完成\n",
    "\n",
    "# 查找搜尋列並輸入關鍵字\n",
    "search = driver.find_element(By.NAME, 'x1a2a7pz x1qjc9v5 xnwf7zb x40j3uw x1s7lred x15gyhx8 x9f619 x78zum5 x1fns5xo x1n2onr6 xh8yej3 x1ba4aug xmjcpbm')\n",
    "search.click()\n",
    "time.sleep(2)\n",
    "search.send_keys(\"Computational Systems Biology Lab\")\n",
    "search.send_keys(Keys.RETURN)  # 模擬按下 Enter 鍵\n",
    "\n",
    "time.sleep(5)  # 等待搜尋結果加載\n",
    "\n",
    "# 在這裡添加任何你想要對搜尋結果執行的操作\n",
    "\n",
    "# 關閉瀏覽器\n",
    "driver.quit()\n"
   ]
  }
 ],
 "metadata": {
  "kernelspec": {
   "display_name": "pc",
   "language": "python",
   "name": "python3"
  },
  "language_info": {
   "codemirror_mode": {
    "name": "ipython",
    "version": 3
   },
   "file_extension": ".py",
   "mimetype": "text/x-python",
   "name": "python",
   "nbconvert_exporter": "python",
   "pygments_lexer": "ipython3",
   "version": "3.12.4"
  }
 },
 "nbformat": 4,
 "nbformat_minor": 2
}
